{
 "cells": [
  {
   "cell_type": "code",
   "execution_count": 67,
   "metadata": {},
   "outputs": [
    {
     "name": "stdout",
     "output_type": "stream",
     "text": [
      "Input a positive integer, its factorial along log thereof in base 10 will be returned, as well as control ratio with math.factorial:\n",
      "156! = 747106292628289444708380937293831544659502112248691679154935029028947927533099589206864815366798234329153235562080607562019236871366935959116501738803666174537810867225241796085310597754619259343815926673638047312709851500780194770609766400000000000000000000000000000000000000\n",
      "275.8733823943428\n",
      "1.0\n"
     ]
    }
   ],
   "source": [
    "import math as math\n",
    "\n",
    "print(\"Input a positive integer, its factorial along log thereof in base 10 will be returned, as well as control ratio with math.factorial:\")\n",
    "n = int(input(\"Enter a number\"))\n",
    "if 0<=n<1559:\n",
    "    f = i = 1\n",
    "    while i<=n:\n",
    "        f=f*i\n",
    "        i+=1\n",
    "    print(n, end=\"\")\n",
    "    print(\"! = \", end=\"\")\n",
    "    print(f)\n",
    "    print(math.log10(f))\n",
    "    print(math.factorial(n)/f)\n",
    "elif n<0:\n",
    "    print(\"Factorial is only defined for positive integers, please enter a positive integer.\")\n",
    "else:\n",
    "    print(\"Input should be lower than or equal to 1558.\")\n",
    "\n"
   ]
  }
 ],
 "metadata": {
  "kernelspec": {
   "display_name": "Python 3",
   "language": "python",
   "name": "python3"
  },
  "language_info": {
   "codemirror_mode": {
    "name": "ipython",
    "version": 3
   },
   "file_extension": ".py",
   "mimetype": "text/x-python",
   "name": "python",
   "nbconvert_exporter": "python",
   "pygments_lexer": "ipython3",
   "version": "3.12.2"
  }
 },
 "nbformat": 4,
 "nbformat_minor": 2
}

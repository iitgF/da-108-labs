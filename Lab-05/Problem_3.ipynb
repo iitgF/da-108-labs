{
 "cells": [
  {
   "cell_type": "code",
   "execution_count": 64,
   "metadata": {},
   "outputs": [
    {
     "name": "stderr",
     "output_type": "stream",
     "text": [
      "C:\\Users\\franc\\AppData\\Local\\Temp\\ipykernel_25428\\392079706.py:3: DeprecationWarning: Conversion of an array with ndim > 0 to a scalar is deprecated, and will error in future. Ensure you extract a single element from your array before performing this operation. (Deprecated NumPy 1.25.)\n",
      "  n = int(np.random.rand(1)*100)\n"
     ]
    },
    {
     "name": "stdout",
     "output_type": "stream",
     "text": [
      "Too high\n",
      "High\n",
      "Close\n",
      "Close\n",
      "Close\n",
      "Close\n",
      "Correct guess. You tried 7 times.\n"
     ]
    }
   ],
   "source": [
    "import numpy as np\n",
    "\n",
    "n = int(np.random.rand(1)*100)\n",
    "\n",
    "k = i = 1\n",
    "\n",
    "while True:\n",
    "    p = int(input(\"Input a number:\"))\n",
    "    if p==n:\n",
    "            if i==1:\n",
    "                print(\"Well done!\")\n",
    "            else:\n",
    "                print(\"Correct guess. You tried \", end=\"\")\n",
    "                print(i, end=\"\")\n",
    "                print(\" times.\")\n",
    "            break\n",
    "    elif np.absolute(p-n)<=5:\n",
    "        print(\"Close\")\n",
    "    elif 5<(p-n)<=10:\n",
    "        print(\"High\")\n",
    "    elif -10<=(p-n)<-5:\n",
    "        print(\"Low\")\n",
    "    elif (p-n)>10:\n",
    "        print(\"Too high\")\n",
    "    elif (p-n)<-10:\n",
    "        print(\"Too low\")\n",
    "    i+=1"
   ]
  }
 ],
 "metadata": {
  "kernelspec": {
   "display_name": "Python 3",
   "language": "python",
   "name": "python3"
  },
  "language_info": {
   "codemirror_mode": {
    "name": "ipython",
    "version": 3
   },
   "file_extension": ".py",
   "mimetype": "text/x-python",
   "name": "python",
   "nbconvert_exporter": "python",
   "pygments_lexer": "ipython3",
   "version": "3.12.2"
  }
 },
 "nbformat": 4,
 "nbformat_minor": 2
}

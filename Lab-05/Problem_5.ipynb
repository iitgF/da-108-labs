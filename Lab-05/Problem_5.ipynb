{
 "cells": [
  {
   "cell_type": "code",
   "execution_count": 1,
   "metadata": {},
   "outputs": [
    {
     "name": "stdout",
     "output_type": "stream",
     "text": [
      "QWr QWVJVHSSJK  sgqFWQ\n",
      "\n",
      "\n",
      "'q' input, bye\n"
     ]
    }
   ],
   "source": [
    "# Define vowels\n",
    "\n",
    "vowels = {'a', 'e', 'i', 'o', 'u', 'A', 'E', 'I', 'O', 'U'}\n",
    "\n",
    "# Define removal function\n",
    "\n",
    "def remove_vowels(text):\n",
    "    \n",
    "    words = text.split()  # Split the input string into words\n",
    "    \n",
    "    result = []\n",
    "\n",
    "    for word in words:\n",
    "        if len(word) == 1:\n",
    "            # Skip single-letter words\n",
    "            result.append(word)\n",
    "        else:\n",
    "            # Remove vowels from other words\n",
    "            result.append(\"\".join(char for char in word if char not in vowels))\n",
    "\n",
    "    return \" \".join(result)\n",
    "\n",
    "# Ask the user for input\n",
    "user_input = input(\"User input (type 'q' to exit): \")\n",
    "\n",
    "while user_input.lower() != 'q':\n",
    "\n",
    "    output = remove_vowels(user_input)\n",
    "    print(output)\n",
    "    user_input = input(\"User input (type 'q' to exit): \")\n",
    "\n",
    "print(\"'q' input, bye\")\n"
   ]
  }
 ],
 "metadata": {
  "kernelspec": {
   "display_name": "Python 3",
   "language": "python",
   "name": "python3"
  },
  "language_info": {
   "codemirror_mode": {
    "name": "ipython",
    "version": 3
   },
   "file_extension": ".py",
   "mimetype": "text/x-python",
   "name": "python",
   "nbconvert_exporter": "python",
   "pygments_lexer": "ipython3",
   "version": "3.12.2"
  }
 },
 "nbformat": 4,
 "nbformat_minor": 2
}

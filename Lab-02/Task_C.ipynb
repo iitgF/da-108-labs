{
 "cells": [
  {
   "cell_type": "code",
   "execution_count": 2,
   "metadata": {},
   "outputs": [
    {
     "name": "stdout",
     "output_type": "stream",
     "text": [
      "Area: 12.56636\n"
     ]
    }
   ],
   "source": [
    "\"\"\"Area of Circle Calculator: Write a Python script named task_C.py that takes input for the radius of a\n",
    "circle and computes its area using the formula A=π*r**r, where π is a constant (use an approximation like\n",
    "3.14159). The program should display the computed area. The output format should be:\n",
    "Radius: <user input a number>\n",
    "Area: <output> square units\"\"\"\n",
    "\n",
    "PI = 3.14159 #this is the approximate value of π to be used\n",
    "\n",
    "r = float(input(\"Radius:\"))\n",
    "area = PI * r**2\n",
    "print(f\"Area: {area}\")\n"
   ]
  }
 ],
 "metadata": {
  "kernelspec": {
   "display_name": "Python 3",
   "language": "python",
   "name": "python3"
  },
  "language_info": {
   "codemirror_mode": {
    "name": "ipython",
    "version": 3
   },
   "file_extension": ".py",
   "mimetype": "text/x-python",
   "name": "python",
   "nbconvert_exporter": "python",
   "pygments_lexer": "ipython3",
   "version": "3.12.2"
  }
 },
 "nbformat": 4,
 "nbformat_minor": 2
}

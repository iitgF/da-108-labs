{
 "cells": [
  {
   "cell_type": "code",
   "execution_count": 3,
   "metadata": {},
   "outputs": [
    {
     "name": "stdout",
     "output_type": "stream",
     "text": [
      "Energy: 4.493775893684088e+17 Joules\n"
     ]
    }
   ],
   "source": [
    "#How to calculate energy alla Einstein \n",
    "\n",
    "C = 299792458 #this is the speed of light in meters per second\n",
    "\n",
    "while True:\n",
    "\n",
    "    w = input(\"Mass (or 'q' to exit):\")\n",
    "\n",
    "    if w == 'q':\n",
    "        break\n",
    "    else:\n",
    "        m = float(w)\n",
    "        energy = m * C * C\n",
    "        print(f\"Energy: {energy} Joules\")\n"
   ]
  }
 ],
 "metadata": {
  "kernelspec": {
   "display_name": "Python 3",
   "language": "python",
   "name": "python3"
  },
  "language_info": {
   "codemirror_mode": {
    "name": "ipython",
    "version": 3
   },
   "file_extension": ".py",
   "mimetype": "text/x-python",
   "name": "python",
   "nbconvert_exporter": "python",
   "pygments_lexer": "ipython3",
   "version": "3.12.2"
  }
 },
 "nbformat": 4,
 "nbformat_minor": 2
}

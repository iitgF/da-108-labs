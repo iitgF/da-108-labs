{
 "cells": [
  {
   "cell_type": "code",
   "execution_count": 16,
   "metadata": {},
   "outputs": [
    {
     "name": "stdout",
     "output_type": "stream",
     "text": [
      "{33, 22, 54, 75, 11}\n",
      "{5, 22, 54, 75, 11}\n"
     ]
    }
   ],
   "source": [
    "set1 = {11, 22, 33}\n",
    "set2 = {33, 54, 75}\n",
    "# Perform union operation using the `|` operator or the `union()` method\n",
    "union_set = set1 | set2\n",
    "# Or: union_set = set1.union(set2)\n",
    "print(union_set)\n",
    "union_set.add(5)\n",
    "union_set.remove(33)\n",
    "print(union_set)"
   ]
  },
  {
   "cell_type": "code",
   "execution_count": 17,
   "metadata": {},
   "outputs": [
    {
     "name": "stdout",
     "output_type": "stream",
     "text": [
      "{33}\n",
      "{11, 22}\n"
     ]
    }
   ],
   "source": [
    "set1 = {11, 22, 33}\n",
    "set2 = {33, 54, 75}\n",
    "# Perform intersection operation using the `&` operator or the `intersection()` method\n",
    "intersection_set = set1 & set2\n",
    "# Or: intersection_set = set1.intersection(set2)\n",
    "print(intersection_set)\n",
    "set3 = set1 - set2\n",
    "print(set3)"
   ]
  },
  {
   "cell_type": "code",
   "execution_count": 10,
   "metadata": {},
   "outputs": [
    {
     "name": "stdout",
     "output_type": "stream",
     "text": [
      "3 9\n",
      "(3, 9, 3, 9)\n",
      "(3, 9, 3, 9, 3, 9)\n"
     ]
    }
   ],
   "source": [
    "my_tuple = (3, 9)\n",
    "x, y = my_tuple\n",
    "print(x, y)\n",
    "my_new_tuple = my_tuple * 2\n",
    "print(my_new_tuple)\n",
    "super_tuple = my_tuple + my_new_tuple\n",
    "print(super_tuple)\n"
   ]
  },
  {
   "cell_type": "code",
   "execution_count": 24,
   "metadata": {},
   "outputs": [
    {
     "name": "stdout",
     "output_type": "stream",
     "text": [
      "{'name': 'Bob', 'age': 30, 'city': 'NYC'}\n"
     ]
    }
   ],
   "source": [
    "import pickle\n",
    "\n",
    "data = {'name': 'Bob', 'age': 30, 'city': 'NYC'}\n",
    "\n",
    "with open('data.pkl', 'wb') as f1:\n",
    "    pickle.dump(data, f1)\n",
    "\n",
    "with open('data.pkl', 'rb') as f1:\n",
    "    restored_data = pickle.load(f1)\n",
    "\n",
    "print(restored_data)"
   ]
  }
 ],
 "metadata": {
  "kernelspec": {
   "display_name": "Python 3",
   "language": "python",
   "name": "python3"
  },
  "language_info": {
   "codemirror_mode": {
    "name": "ipython",
    "version": 3
   },
   "file_extension": ".py",
   "mimetype": "text/x-python",
   "name": "python",
   "nbconvert_exporter": "python",
   "pygments_lexer": "ipython3",
   "version": "3.12.2"
  }
 },
 "nbformat": 4,
 "nbformat_minor": 2
}

{
 "cells": [
  {
   "cell_type": "code",
   "execution_count": 2,
   "metadata": {},
   "outputs": [
    {
     "name": "stdout",
     "output_type": "stream",
     "text": [
      "matplotlib\n"
     ]
    }
   ],
   "source": [
    "import numpy as np\n",
    "import pandas as pd\n",
    "import matplotlib.pyplot as plt\n",
    "\n",
    "##with open(\"WHO-COVID-19-global-data.csv\") as file:\n",
    "##    data = file.read()\n",
    "##    print(data)\n",
    "\n",
    "df = pd.read_csv('WHO-COVID-19-global-data.csv')\n",
    "print(df)\n",
    "\n",
    "plt.plot(df['Date_reported'], df['Cumulative_deaths'], label='Your Label')\n",
    "#plt.bar(df['Country'], df['Cumulative_deaths'], label='Your Label')"
   ]
  }
 ],
 "metadata": {
  "language_info": {
   "name": "python"
  }
 },
 "nbformat": 4,
 "nbformat_minor": 2
}

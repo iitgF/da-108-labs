{
 "cells": [
  {
   "cell_type": "code",
   "execution_count": 1,
   "metadata": {},
   "outputs": [
    {
     "name": "stdout",
     "output_type": "stream",
     "text": [
      "File 1 content: Stuff\n",
      "File 2 content: And things.\n"
     ]
    }
   ],
   "source": [
    "with open(\"file1.txt\", \"r\") as file1, open(\"file2.txt\", \"r\") as file2:\n",
    "    content1 = file1.read()\n",
    "    print(\"File 1 content:\", content1)\n",
    "    content2 = file2.read()\n",
    "    print(\"File 2 content:\", content2)\n",
    "\n"
   ]
  },
  {
   "cell_type": "code",
   "execution_count": 8,
   "metadata": {},
   "outputs": [],
   "source": [
    "import glob\n",
    "text = glob.glob('*.txt)')\n",
    "for filename in text:\n",
    "    print(filename)"
   ]
  },
  {
   "cell_type": "code",
   "execution_count": 9,
   "metadata": {},
   "outputs": [
    {
     "name": "stdout",
     "output_type": "stream",
     "text": [
      "File content: Stuff\n"
     ]
    },
    {
     "ename": "ValueError",
     "evalue": "I/O operation on closed file.",
     "output_type": "error",
     "traceback": [
      "\u001b[1;31m---------------------------------------------------------------------------\u001b[0m",
      "\u001b[1;31mValueError\u001b[0m                                Traceback (most recent call last)",
      "Cell \u001b[1;32mIn[9], line 6\u001b[0m\n\u001b[0;32m      4\u001b[0m gile \u001b[38;5;241m=\u001b[39m file\n\u001b[0;32m      5\u001b[0m gile\u001b[38;5;241m.\u001b[39mclose()\n\u001b[1;32m----> 6\u001b[0m content \u001b[38;5;241m=\u001b[39m \u001b[43mfile\u001b[49m\u001b[38;5;241;43m.\u001b[39;49m\u001b[43mread\u001b[49m\u001b[43m(\u001b[49m\u001b[43m)\u001b[49m\n\u001b[0;32m      7\u001b[0m file\u001b[38;5;241m.\u001b[39mclose()\n",
      "\u001b[1;31mValueError\u001b[0m: I/O operation on closed file."
     ]
    }
   ],
   "source": [
    "file = open('file1.txt')\n",
    "content = file.read()\n",
    "print(\"File content:\", content)\n",
    "gile = file\n",
    "gile.close()\n",
    "content = file.read()\n",
    "file.close()\n"
   ]
  },
  {
   "cell_type": "code",
   "execution_count": 14,
   "metadata": {},
   "outputs": [
    {
     "name": "stdout",
     "output_type": "stream",
     "text": [
      "b''\n"
     ]
    }
   ],
   "source": [
    "with open(\"file1.txt\", \"rb\") as file:\n",
    "    chunk_size = 4096\n",
    "    while True:\n",
    "        chunk = file.read(chunk_size)\n",
    "        if not chunk:\n",
    "            break\n",
    "print(chunk)"
   ]
  },
  {
   "cell_type": "code",
   "execution_count": 16,
   "metadata": {},
   "outputs": [
    {
     "name": "stdout",
     "output_type": "stream",
     "text": [
      "And things.\n",
      "Again.\n"
     ]
    }
   ],
   "source": [
    "file_path = \"file2.txt\"\n",
    "try:\n",
    "    with open(file_path, \"r\") as file:\n",
    "        for line in file:\n",
    "            print(line.rstrip(\"\\n\"))\n",
    "except FileNotFoundError:\n",
    "    print(f\"File '{file_path}' not found.\")"
   ]
  }
 ],
 "metadata": {
  "kernelspec": {
   "display_name": "Python 3",
   "language": "python",
   "name": "python3"
  },
  "language_info": {
   "codemirror_mode": {
    "name": "ipython",
    "version": 3
   },
   "file_extension": ".py",
   "mimetype": "text/x-python",
   "name": "python",
   "nbconvert_exporter": "python",
   "pygments_lexer": "ipython3",
   "version": "3.12.2"
  }
 },
 "nbformat": 4,
 "nbformat_minor": 2
}

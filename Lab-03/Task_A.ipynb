{
 "cells": [
  {
   "cell_type": "code",
   "execution_count": 1,
   "metadata": {},
   "outputs": [
    {
     "name": "stdout",
     "output_type": "stream",
     "text": [
      "Case altered: QGUGDDQJYDKQD QDJGYQLDJQGDLJ GQLQEGQDEGLQSJL\n"
     ]
    }
   ],
   "source": [
    "\"\"\" This script converts user input into capital letters\"\"\"\n",
    "\n",
    "# Prompt user for input\n",
    "user_input = input(\"user input: \")\n",
    "\n",
    "# Convert to uppercase\n",
    "case_altered = user_input.upper()\n",
    "\n",
    "# Output the processed input\n",
    "print(f\"Case altered: {case_altered}\")\n"
   ]
  }
 ],
 "metadata": {
  "kernelspec": {
   "display_name": "Python 3",
   "language": "python",
   "name": "python3"
  },
  "language_info": {
   "codemirror_mode": {
    "name": "ipython",
    "version": 3
   },
   "file_extension": ".py",
   "mimetype": "text/x-python",
   "name": "python",
   "nbconvert_exporter": "python",
   "pygments_lexer": "ipython3",
   "version": "3.12.2"
  }
 },
 "nbformat": 4,
 "nbformat_minor": 2
}
